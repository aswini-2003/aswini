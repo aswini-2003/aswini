{
  "nbformat": 4,
  "nbformat_minor": 0,
  "metadata": {
    "colab": {
      "provenance": [],
      "authorship_tag": "ABX9TyOJkLivUEdij9Fp/DamBtp0",
      "include_colab_link": true
    },
    "kernelspec": {
      "name": "python3",
      "display_name": "Python 3"
    },
    "language_info": {
      "name": "python"
    }
  },
  "cells": [
    {
      "cell_type": "markdown",
      "metadata": {
        "id": "view-in-github",
        "colab_type": "text"
      },
      "source": [
        "<a href=\"https://colab.research.google.com/github/aswini-2003/aswini/blob/main/Untitled2.ipynb\" target=\"_parent\"><img src=\"https://colab.research.google.com/assets/colab-badge.svg\" alt=\"Open In Colab\"/></a>"
      ]
    },
    {
      "cell_type": "code",
      "execution_count": null,
      "metadata": {
        "colab": {
          "base_uri": "https://localhost:8080/"
        },
        "id": "l1aCc-nCeCcm",
        "outputId": "826ba9d6-2ab3-4308-807d-57c2bef8e993"
      },
      "outputs": [
        {
          "output_type": "stream",
          "name": "stdout",
          "text": [
            "9\n"
          ]
        }
      ],
      "source": [
        "class student:\n",
        "  def calculatePower(self,no,po):\n",
        "    return no**po\n",
        "obj=student()\n",
        "print(obj.calculatePower(3,2))"
      ]
    },
    {
      "cell_type": "code",
      "source": [
        "#input a no to check whether it is a perfect square or not\n",
        "class perfectSquare:\n",
        "  def perfects(self,n):\n",
        "    r=n%10\n",
        "    if(r*r==n):\n",
        "      return\"perfect square\"\n",
        "    else:\n",
        "      return\"not perfect square\"\n",
        "obj=perfectSquare()\n",
        "n=int(input(\"number:\"))\n",
        "print(obj.perfects(n))\n",
        "\n",
        "\n"
      ],
      "metadata": {
        "colab": {
          "base_uri": "https://localhost:8080/"
        },
        "id": "YUyLiiSyg660",
        "outputId": "105f5737-b11b-4942-ffc0-fa2e63dcf116"
      },
      "execution_count": null,
      "outputs": [
        {
          "output_type": "stream",
          "name": "stdout",
          "text": [
            "number:36\n",
            "perfect square\n"
          ]
        }
      ]
    },
    {
      "cell_type": "code",
      "source": [
        "class A:\n",
        "  def dA(self):\n",
        "    print(\"parent class\")\n",
        "class B(A):\n",
        "  def dB(self):\n",
        "    print(\"child class\")\n",
        "obj=B()\n",
        "obj.dA()\n",
        "obj.dB()"
      ],
      "metadata": {
        "colab": {
          "base_uri": "https://localhost:8080/"
        },
        "id": "RvEeKOL5oPsx",
        "outputId": "75a3b191-fd28-44ca-d096-ced98a883c34"
      },
      "execution_count": null,
      "outputs": [
        {
          "output_type": "stream",
          "name": "stdout",
          "text": [
            "parent class\n",
            "child class\n"
          ]
        }
      ]
    },
    {
      "cell_type": "code",
      "source": [
        "class A:\n",
        "  def dA(self):\n",
        "    print(\"grand parent class\")\n",
        "class B(A):\n",
        "  def dB(self):\n",
        "    print(\"parent class\")\n",
        "class C(B):\n",
        "  def dC(self):\n",
        "    print(\"child class\")\n",
        "obj=C()\n",
        "obj.dA()\n",
        "obj.dB()\n",
        "obj.dC()\n"
      ],
      "metadata": {
        "colab": {
          "base_uri": "https://localhost:8080/"
        },
        "id": "KpdekXdgs5IZ",
        "outputId": "7bf22dc9-1450-43fb-c933-85941986efff"
      },
      "execution_count": null,
      "outputs": [
        {
          "output_type": "stream",
          "name": "stdout",
          "text": [
            "grand parent class\n",
            "parent class\n",
            "child class\n"
          ]
        }
      ]
    },
    {
      "cell_type": "code",
      "source": [
        "class A:\n",
        "  def dA(self):\n",
        "    print(\"grand parent class\")\n",
        "class B:\n",
        "  def dB(self):\n",
        "    print(\"parent class\")\n",
        "class C(A,B):\n",
        "  def dC(self):\n",
        "    print(\"child class\")\n",
        "obj=C()\n",
        "obj.dA()\n",
        "obj.dB()\n",
        "obj.dC()\n"
      ],
      "metadata": {
        "colab": {
          "base_uri": "https://localhost:8080/"
        },
        "id": "XTLw5T3yvNKb",
        "outputId": "74fa0a77-dad0-42ba-b2a0-bcf4cc2dc8db"
      },
      "execution_count": null,
      "outputs": [
        {
          "output_type": "stream",
          "name": "stdout",
          "text": [
            "grand parent class\n",
            "parent class\n",
            "child class\n"
          ]
        }
      ]
    },
    {
      "cell_type": "code",
      "source": [
        "class A:\n",
        "  def dA(self):\n",
        "    print(\"grand parent class\")\n",
        "class B(A):\n",
        "  def dB(self):\n",
        "    print(\"parent class\")\n",
        "class C(A):\n",
        "  def dC(self):\n",
        "    print(\"child class\")\n",
        "obj=B()\n",
        "obj.dA()\n",
        "obj.dB()\n",
        "obj=C()\n",
        "obj.dA()\n",
        "obj.dC()\n"
      ],
      "metadata": {
        "colab": {
          "base_uri": "https://localhost:8080/"
        },
        "id": "DDkjdX3pvt2r",
        "outputId": "4ada730d-b570-4908-9af1-9d8c78ffb7c1"
      },
      "execution_count": null,
      "outputs": [
        {
          "output_type": "stream",
          "name": "stdout",
          "text": [
            "grand parent class\n",
            "parent class\n",
            "grand parent class\n",
            "child class\n"
          ]
        }
      ]
    },
    {
      "cell_type": "code",
      "source": [
        "class student:\n",
        "  def disp(self,roll,name):\n",
        "    print(roll,name)\n",
        "  def disp(self):\n",
        "    print(\"WELCOME\")\n",
        "obj=student()\n",
        "obj.disp()"
      ],
      "metadata": {
        "colab": {
          "base_uri": "https://localhost:8080/"
        },
        "id": "m1RTQ2tfwzhk",
        "outputId": "2992c1b5-0f3d-4662-a58d-4fcfc0ad4cf5"
      },
      "execution_count": null,
      "outputs": [
        {
          "output_type": "stream",
          "name": "stdout",
          "text": [
            "WELCOME\n"
          ]
        }
      ]
    },
    {
      "cell_type": "code",
      "source": [
        "class parent:\n",
        "  def myMethod(self):\n",
        "    print(\"calling parent method\")\n",
        "class child(parent):\n",
        "  def myMethod(self):\n",
        "    print(\"calling child method\")\n",
        "c=child()\n",
        "c.myMethod()\n",
        "p=parent()\n",
        "p.myMethod()"
      ],
      "metadata": {
        "colab": {
          "base_uri": "https://localhost:8080/"
        },
        "id": "sn__6U2lxzsx",
        "outputId": "fd7a8c6f-f41b-4d98-ec16-43d1ffe33f5d"
      },
      "execution_count": null,
      "outputs": [
        {
          "output_type": "stream",
          "name": "stdout",
          "text": [
            "calling child method\n",
            "calling parent method\n"
          ]
        }
      ]
    },
    {
      "cell_type": "code",
      "source": [
        "import numpy as np\n",
        "arr=np.array([1,2,3,4])\n",
        "print(arr)"
      ],
      "metadata": {
        "colab": {
          "base_uri": "https://localhost:8080/"
        },
        "id": "5A_AENHE1HEr",
        "outputId": "de5c5468-3eed-4d7f-b385-8ac2b6835794"
      },
      "execution_count": null,
      "outputs": [
        {
          "output_type": "stream",
          "name": "stdout",
          "text": [
            "[1 2 3 4]\n"
          ]
        }
      ]
    },
    {
      "cell_type": "code",
      "source": [
        "import numpy as np\n",
        "list1=[0,1,2,3,4]\n",
        "arr=np.array(list1)\n",
        "print(arr)\n",
        "arr=arr+2\n",
        "print(arr)"
      ],
      "metadata": {
        "colab": {
          "base_uri": "https://localhost:8080/"
        },
        "id": "5W7wHQRA6RgI",
        "outputId": "5c00197d-5b52-427c-b4dc-610987c047cc"
      },
      "execution_count": null,
      "outputs": [
        {
          "output_type": "stream",
          "name": "stdout",
          "text": [
            "[0 1 2 3 4]\n",
            "[2 3 4 5 6]\n"
          ]
        }
      ]
    },
    {
      "cell_type": "code",
      "source": [
        "import numpy as np\n",
        "list2=[(0,1,2),(3,4,5),(6,7,8)]\n",
        "arr3=np.array(list2,dtype='float')\n",
        "print(arr3)"
      ],
      "metadata": {
        "colab": {
          "base_uri": "https://localhost:8080/"
        },
        "id": "ZgT8R2ZN7d5B",
        "outputId": "7aa16df9-06d1-4e2b-a0bb-eb898cc6fed7"
      },
      "execution_count": null,
      "outputs": [
        {
          "output_type": "stream",
          "name": "stdout",
          "text": [
            "[[0. 1. 2.]\n",
            " [3. 4. 5.]\n",
            " [6. 7. 8.]]\n"
          ]
        }
      ]
    },
    {
      "cell_type": "code",
      "source": [
        "import numpy as np\n",
        "list2=[(0,1,2),(3,4,5),(6,7,8)]\n",
        "arr3=np.array(list2,dtype='str')\n",
        "print(arr3)"
      ],
      "metadata": {
        "colab": {
          "base_uri": "https://localhost:8080/"
        },
        "id": "OnrAR5qp8DOo",
        "outputId": "efa63b98-bc70-44f0-e32c-f06fce713847"
      },
      "execution_count": null,
      "outputs": [
        {
          "output_type": "stream",
          "name": "stdout",
          "text": [
            "[['0' '1' '2']\n",
            " ['3' '4' '5']\n",
            " ['6' '7' '8']]\n"
          ]
        }
      ]
    },
    {
      "cell_type": "code",
      "source": [
        "import numpy as np\n",
        "list2=[(0,1,2),(3,4,5),(6,7,8)]\n",
        "arr3=np.array(list2,dtype='float')\n",
        "print('Shape:',arr3.shape)\n",
        "print('Data type:',arr3.dtype)\n",
        "print('Size:',arr3.size)\n",
        "print('Num dimensions:',arr3.ndim)"
      ],
      "metadata": {
        "id": "MNdyk1UM9K40",
        "colab": {
          "base_uri": "https://localhost:8080/"
        },
        "outputId": "ae04c68d-f268-4cbc-9666-86e9cc557106"
      },
      "execution_count": null,
      "outputs": [
        {
          "output_type": "stream",
          "name": "stdout",
          "text": [
            "Shape: (3, 3)\n",
            "Data type: float64\n",
            "Size: 9\n",
            "Num dimensions: 2\n"
          ]
        }
      ]
    },
    {
      "cell_type": "code",
      "source": [
        "arr_obj=np.array([1,'a'],dtype='object')\n",
        "print(arr_obj)"
      ],
      "metadata": {
        "colab": {
          "base_uri": "https://localhost:8080/"
        },
        "id": "M26AkuIV8Ofv",
        "outputId": "de11bf93-895f-46cf-94f0-3c8adeae1162"
      },
      "execution_count": null,
      "outputs": [
        {
          "output_type": "stream",
          "name": "stdout",
          "text": [
            "[1 'a']\n"
          ]
        }
      ]
    },
    {
      "cell_type": "code",
      "source": [
        "import numpy\n",
        "list=[10,20,30,40,50]\n",
        "a=numpy.array(list)\n",
        "print(a)"
      ],
      "metadata": {
        "colab": {
          "base_uri": "https://localhost:8080/"
        },
        "id": "weH_MYBW3ZOP",
        "outputId": "54126e03-5027-4680-8a42-e80551f16f99"
      },
      "execution_count": null,
      "outputs": [
        {
          "output_type": "stream",
          "name": "stdout",
          "text": [
            "[10 20 30 40 50]\n"
          ]
        }
      ]
    }
  ]
}